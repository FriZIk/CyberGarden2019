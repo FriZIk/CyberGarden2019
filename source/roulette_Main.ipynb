{
 "cells": [
  {
   "cell_type": "code",
   "execution_count": 2,
   "metadata": {},
   "outputs": [
    {
     "name": "stderr",
     "output_type": "stream",
     "text": [
      "Using TensorFlow backend.\n"
     ]
    }
   ],
   "source": [
    "# импортируем бэкенд Agg из matplotlib для сохранения графиков на диск\n",
    "import matplotlib\n",
    "matplotlib.use(\"Agg\")\n",
    " \n",
    "# подключаем необходимые пакеты\n",
    "from sklearn.preprocessing import LabelBinarizer\n",
    "from sklearn.model_selection import train_test_split\n",
    "from sklearn.metrics import classification_report\n",
    "from keras.models import Sequential, Model\n",
    "from keras.layers.core import Dense, Flatten\n",
    "from keras.layers.convolutional import Conv2D\n",
    "from keras.optimizers import SGD\n",
    "from keras.utils import to_categorical as to_catcal\n",
    "from imutils import paths as path\n",
    "import matplotlib.pyplot as plt\n",
    "import matplotlib \n",
    "import numpy as np\n",
    "import argparse\n",
    "import random\n",
    "import pickle\n",
    "import cv2\n",
    "import os \n",
    "import tkinter\n",
    "import pickle as pkl"
   ]
  },
  {
   "cell_type": "code",
   "execution_count": 3,
   "metadata": {},
   "outputs": [],
   "source": [
    "trX = open(\"C:/Users/Zimus/Desktop/CyberGarHacathon/CyberGarden2019-master/CyberGarden2019-master/pickles/rou_trX.pkl\", \"rb\")\n",
    "trainX = pkl.load(trX)\n",
    "trX.close()\n",
    "\n",
    "trY = open(\"C:/Users/Zimus/Desktop/CyberGarHacathon/CyberGarden2019-master/CyberGarden2019-master/pickles/rou_trY.pkl\", \"rb\")\n",
    "trainY = pkl.load(trY)\n",
    "trY.close()\n",
    "\n",
    "tsX = open(\"C:/Users/Zimus/Desktop/CyberGarHacathon/CyberGarden2019-master/CyberGarden2019-master/pickles/rou_tsX.pkl\", \"rb\")\n",
    "testX = pkl.load(tsX)\n",
    "tsX.close()\n",
    "\n",
    "tsY = open(\"C:/Users/Zimus/Desktop/CyberGarHacathon/CyberGarden2019-master/CyberGarden2019-master/pickles/rou_tsY.pkl\", \"rb\")\n",
    "testY = pkl.load(tsY)\n",
    "tsY.close()"
   ]
  },
  {
   "cell_type": "code",
   "execution_count": 4,
   "metadata": {},
   "outputs": [
    {
     "name": "stdout",
     "output_type": "stream",
     "text": [
      "[0. 0. 0. 1.] [0. 1. 0. 0.] [0. 0. 0. 1.]\n"
     ]
    }
   ],
   "source": [
    "#categorizing labels WORKS\n",
    "trainY = to_catcal(trainY)\n",
    "testY = to_catcal(testY)\n",
    "\n",
    "print(trainY[0], trainY[1], trainY[2])"
   ]
  },
  {
   "cell_type": "code",
   "execution_count": 5,
   "metadata": {},
   "outputs": [
    {
     "name": "stdout",
     "output_type": "stream",
     "text": [
      "WARNING:tensorflow:From c:\\users\\zimus\\appdata\\local\\programs\\python\\python37\\lib\\site-packages\\tensorflow_core\\python\\ops\\resource_variable_ops.py:1630: calling BaseResourceVariable.__init__ (from tensorflow.python.ops.resource_variable_ops) with constraint is deprecated and will be removed in a future version.\n",
      "Instructions for updating:\n",
      "If using Keras pass *_constraint arguments to layers.\n"
     ]
    }
   ],
   "source": [
    "COEFFICIENT = 10\n",
    "EPOCHS = 5\n",
    "EDU_SPEED = 0.1\n",
    "\n",
    "model = Sequential()\n",
    "model.add(Conv2D(64, kernel_size=8, activation=\"relu\", input_shape=(COEFFICIENT*32, COEFFICIENT*32, 3)))\n",
    "model.add(Conv2D(32, kernel_size=4, activation=\"relu\"))\n",
    "model.add(Flatten())\n",
    "model.add(Dense(4, activation=\"softmax\"))\n"
   ]
  },
  {
   "cell_type": "code",
   "execution_count": 6,
   "metadata": {},
   "outputs": [
    {
     "name": "stdout",
     "output_type": "stream",
     "text": [
      "[Ruso-Pythonisto] compiling this shit...\n"
     ]
    }
   ],
   "source": [
    "print(\"[Ruso-Pythonisto] compiling this shit...\")\n",
    "TheNet = model.compile(optimizer=\"adam\", loss=\"categorical_crossentropy\", metrics=[\"accuracy\"])"
   ]
  },
  {
   "cell_type": "code",
   "execution_count": 7,
   "metadata": {},
   "outputs": [
    {
     "name": "stdout",
     "output_type": "stream",
     "text": [
      "[Ruso-Pythonisto] training it...\n",
      "WARNING:tensorflow:From c:\\users\\zimus\\appdata\\local\\programs\\python\\python37\\lib\\site-packages\\keras\\backend\\tensorflow_backend.py:422: The name tf.global_variables is deprecated. Please use tf.compat.v1.global_variables instead.\n",
      "\n",
      "Train on 437 samples, validate on 146 samples\n",
      "Epoch 1/5\n",
      "437/437 [==============================] - 431s 986ms/step - loss: 2585.1139 - accuracy: 0.3364 - val_loss: 1.5348 - val_accuracy: 0.3288\n",
      "Epoch 2/5\n",
      "437/437 [==============================] - 446s 1s/step - loss: 1.2917 - accuracy: 0.4119 - val_loss: 1.5156 - val_accuracy: 0.2877\n",
      "Epoch 3/5\n",
      "437/437 [==============================] - 430s 985ms/step - loss: 1.2034 - accuracy: 0.4851 - val_loss: 1.4398 - val_accuracy: 0.2671\n",
      "Epoch 4/5\n",
      "437/437 [==============================] - 459s 1s/step - loss: 1.1412 - accuracy: 0.5355 - val_loss: 1.5952 - val_accuracy: 0.2808\n",
      "Epoch 5/5\n",
      "437/437 [==============================] - 474s 1s/step - loss: 1.0167 - accuracy: 0.5744 - val_loss: 1.6320 - val_accuracy: 0.2877\n"
     ]
    }
   ],
   "source": [
    "print(\"[Ruso-Pythonisto] training it...\")\n",
    "TheNet = model.fit(trainX, trainY, validation_data=(testX, testY), epochs=EPOCHS, batch_size = 32)"
   ]
  },
  {
   "cell_type": "code",
   "execution_count": 9,
   "metadata": {},
   "outputs": [
    {
     "name": "stdout",
     "output_type": "stream",
     "text": [
      "[Ruso-Pythonisto] evaluating network...\n",
      "101\n"
     ]
    }
   ],
   "source": [
    "print(\"[Ruso-Pythonisto] evaluating network...\")\n",
    "predictions = model.predict(testX, batch_size=32)\n",
    "#print(classification_report(testY.argmax(axis=1),\n",
    "  #  predictions.argmax(axis=1), target_names=labe.classes_))\n",
    "\n",
    "N = np.arange(1, EPOCHS)\n",
    "plt.style.use(\"ggplot\")\n",
    "plt.figure()\n",
    "plt.plot(N, TheNet.history[\"loss\"][1:], label=\"train_loss\")\n",
    "plt.plot(N, TheNet.history[\"val_loss\"][1:], label=\"val_loss\")\n",
    "plt.plot(N, TheNet.history[\"accuracy\"][1:], label=\"train_acc\")\n",
    "plt.plot(N, TheNet.history[\"val_accuracy\"][1:], label=\"val_acc\")\n",
    "plt.title(\"Training Loss and Accuracy (Simple NN)\")\n",
    "plt.xlabel(\"Epoch #\")\n",
    "plt.ylabel(\"Loss/Accuracy\")\n",
    "plt.legend()\n",
    "f = open(\"C:/Users/Zimus/Desktop/CyberGarHacathon/CyberGarden2019-master/CyberGarden2019-master/graph/num.txt\", \"rt\")\n",
    "num = f.readline()\n",
    "print(num)\n",
    "num = int(num.strip())\n",
    "f.close()\n",
    "f = open(\"C:/Users/Zimus/Desktop/CyberGarHacathon/CyberGarden2019-master/CyberGarden2019-master/graph/num.txt\", \"wt\")\n",
    "num+=1\n",
    "f.write(str(num))\n",
    "plt.savefig(\"C:/Users/Zimus/Desktop/CyberGarHacathon/CyberGarden2019-master/CyberGarden2019-master/graph/%d\" % num)"
   ]
  },
  {
   "cell_type": "code",
   "execution_count": null,
   "metadata": {},
   "outputs": [],
   "source": []
  },
  {
   "cell_type": "code",
   "execution_count": null,
   "metadata": {},
   "outputs": [],
   "source": []
  },
  {
   "cell_type": "code",
   "execution_count": null,
   "metadata": {},
   "outputs": [],
   "source": []
  },
  {
   "cell_type": "code",
   "execution_count": null,
   "metadata": {},
   "outputs": [],
   "source": []
  },
  {
   "cell_type": "code",
   "execution_count": null,
   "metadata": {},
   "outputs": [],
   "source": []
  },
  {
   "cell_type": "code",
   "execution_count": null,
   "metadata": {},
   "outputs": [],
   "source": []
  },
  {
   "cell_type": "code",
   "execution_count": null,
   "metadata": {},
   "outputs": [],
   "source": []
  },
  {
   "cell_type": "code",
   "execution_count": null,
   "metadata": {},
   "outputs": [],
   "source": []
  },
  {
   "cell_type": "code",
   "execution_count": null,
   "metadata": {},
   "outputs": [],
   "source": []
  },
  {
   "cell_type": "code",
   "execution_count": null,
   "metadata": {},
   "outputs": [],
   "source": []
  }
 ],
 "metadata": {
  "kernelspec": {
   "display_name": "Python 3",
   "language": "python",
   "name": "python3"
  },
  "language_info": {
   "codemirror_mode": {
    "name": "ipython",
    "version": 3
   },
   "file_extension": ".py",
   "mimetype": "text/x-python",
   "name": "python",
   "nbconvert_exporter": "python",
   "pygments_lexer": "ipython3",
   "version": "3.7.0"
  }
 },
 "nbformat": 4,
 "nbformat_minor": 2
}
