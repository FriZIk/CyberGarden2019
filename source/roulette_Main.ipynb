{
 "cells": [
  {
   "cell_type": "code",
   "execution_count": 1,
   "metadata": {},
   "outputs": [
    {
     "name": "stderr",
     "output_type": "stream",
     "text": [
      "Using TensorFlow backend.\n"
     ]
    }
   ],
   "source": [
    "# импортируем бэкенд Agg из matplotlib для сохранения графиков на диск\n",
    "import matplotlib\n",
    "matplotlib.use(\"Agg\")\n",
    " \n",
    "# подключаем необходимые пакеты\n",
    "from sklearn.preprocessing import LabelBinarizer\n",
    "from sklearn.model_selection import train_test_split\n",
    "from sklearn.metrics import classification_report\n",
    "from keras.models import Sequential, Model\n",
    "from keras.layers.core import Dense, Flatten, Dropout\n",
    "from keras.layers.convolutional import Conv2D\n",
    "from keras.optimizers import SGD\n",
    "from keras.utils import to_categorical as to_catcal\n",
    "from imutils import paths as path\n",
    "import matplotlib.pyplot as plt\n",
    "import matplotlib \n",
    "import numpy as np\n",
    "import argparse\n",
    "import random\n",
    "import pickle\n",
    "import cv2\n",
    "import os \n",
    "import tkinter\n",
    "import pickle as pkl"
   ]
  },
  {
   "cell_type": "code",
   "execution_count": 2,
   "metadata": {},
   "outputs": [],
   "source": [
    "trX = open(\"C:/Users/Zimus/Desktop/CyberGarHacathon/CyberGarden2019-master/CyberGarden2019-master/pickles/rou_trX.pkl\", \"rb\")\n",
    "trainX = pkl.load(trX)\n",
    "trX.close()\n",
    "\n",
    "trY = open(\"C:/Users/Zimus/Desktop/CyberGarHacathon/CyberGarden2019-master/CyberGarden2019-master/pickles/rou_trY.pkl\", \"rb\")\n",
    "trainY = pkl.load(trY)\n",
    "trY.close()\n",
    "\n",
    "tsX = open(\"C:/Users/Zimus/Desktop/CyberGarHacathon/CyberGarden2019-master/CyberGarden2019-master/pickles/rou_tsX.pkl\", \"rb\")\n",
    "testX = pkl.load(tsX)\n",
    "tsX.close()\n",
    "\n",
    "tsY = open(\"C:/Users/Zimus/Desktop/CyberGarHacathon/CyberGarden2019-master/CyberGarden2019-master/pickles/rou_tsY.pkl\", \"rb\")\n",
    "testY = pkl.load(tsY)\n",
    "tsY.close()"
   ]
  },
  {
   "cell_type": "code",
   "execution_count": 3,
   "metadata": {},
   "outputs": [
    {
     "name": "stdout",
     "output_type": "stream",
     "text": [
      "[0. 0. 0. 1.] [0. 0. 1. 0.] [0. 0. 1. 0.]\n"
     ]
    }
   ],
   "source": [
    "#categorizing labels WORKS\n",
    "trainY = to_catcal(trainY)\n",
    "testY = to_catcal(testY)\n",
    "\n",
    "print(trainY[0], trainY[1], trainY[2])"
   ]
  },
  {
   "cell_type": "code",
   "execution_count": 4,
   "metadata": {},
   "outputs": [
    {
     "name": "stdout",
     "output_type": "stream",
     "text": [
      "WARNING:tensorflow:From c:\\users\\zimus\\appdata\\local\\programs\\python\\python37\\lib\\site-packages\\tensorflow_core\\python\\ops\\resource_variable_ops.py:1630: calling BaseResourceVariable.__init__ (from tensorflow.python.ops.resource_variable_ops) with constraint is deprecated and will be removed in a future version.\n",
      "Instructions for updating:\n",
      "If using Keras pass *_constraint arguments to layers.\n"
     ]
    }
   ],
   "source": [
    "COEFFICIENT = 10\n",
    "EPOCHS = 7\n",
    "EDU_SPEED = 0.1\n",
    "\n",
    "model = Sequential()\n",
    "model.add(Dropout(0.1, input_shape=(COEFFICIENT*32, COEFFICIENT*32, 3)))\n",
    "model.add(Conv2D(64, kernel_size=8, activation=\"sigmoid\"))\n",
    "model.add(Dropout(0.2))\n",
    "model.add(Conv2D(32, kernel_size=4, activation=\"sigmoid\"))\n",
    "model.add(Flatten())\n",
    "model.add(Dense(4, activation=\"softmax\"))\n"
   ]
  },
  {
   "cell_type": "code",
   "execution_count": 5,
   "metadata": {},
   "outputs": [
    {
     "name": "stdout",
     "output_type": "stream",
     "text": [
      "[Ruso-Pythonisto] compiling this shit...\n"
     ]
    }
   ],
   "source": [
    "print(\"[Ruso-Pythonisto] compiling this shit...\")\n",
    "TheNet = model.compile(optimizer=\"adam\", loss=\"categorical_crossentropy\", metrics=[\"accuracy\"])"
   ]
  },
  {
   "cell_type": "code",
   "execution_count": null,
   "metadata": {},
   "outputs": [
    {
     "name": "stdout",
     "output_type": "stream",
     "text": [
      "[Ruso-Pythonisto] training it...\n",
      "WARNING:tensorflow:From c:\\users\\zimus\\appdata\\local\\programs\\python\\python37\\lib\\site-packages\\keras\\backend\\tensorflow_backend.py:422: The name tf.global_variables is deprecated. Please use tf.compat.v1.global_variables instead.\n",
      "\n",
      "Train on 272 samples, validate on 91 samples\n",
      "Epoch 1/7\n",
      "272/272 [==============================] - 299s 1s/step - loss: 378.4869 - accuracy: 0.2904 - val_loss: 25.0354 - val_accuracy: 0.2857\n",
      "Epoch 2/7\n",
      "272/272 [==============================] - 293s 1s/step - loss: 8.8395 - accuracy: 0.2831 - val_loss: 1.6731 - val_accuracy: 0.2308\n",
      "Epoch 3/7\n",
      "272/272 [==============================] - 288s 1s/step - loss: 1.6129 - accuracy: 0.1544 - val_loss: 1.4021 - val_accuracy: 0.2418\n",
      "Epoch 4/7\n",
      "272/272 [==============================] - 286s 1s/step - loss: 1.4493 - accuracy: 0.1544 - val_loss: 1.3850 - val_accuracy: 0.2418\n",
      "Epoch 5/7\n",
      "272/272 [==============================] - 277s 1s/step - loss: 1.4146 - accuracy: 0.1544 - val_loss: 1.3819 - val_accuracy: 0.2418\n",
      "Epoch 6/7\n",
      "128/272 [=============>................] - ETA: 2:27 - loss: 1.4097 - accuracy: 0.1484"
     ]
    }
   ],
   "source": [
    "print(\"[Ruso-Pythonisto] training it...\")\n",
    "TheNet = model.fit(trainX, trainY, validation_data=(testX, testY), epochs=EPOCHS, batch_size = 32)"
   ]
  },
  {
   "cell_type": "code",
   "execution_count": null,
   "metadata": {},
   "outputs": [],
   "source": [
    "print(\"[Ruso-Pythonisto] evaluating network...\")\n",
    "predictions = model.predict(testX, batch_size=32)\n",
    "#print(classification_report(testY.argmax(axis=1),\n",
    "  #  predictions.argmax(axis=1), target_names=labe.classes_))\n",
    "\n",
    "START = 3\n",
    "N = np.arange(START, EPOCHS)\n",
    "plt.style.use(\"ggplot\")\n",
    "plt.figure()\n",
    "plt.plot(N, TheNet.history[\"loss\"][START:], label=\"train_loss\")\n",
    "plt.plot(N, TheNet.history[\"val_loss\"][START:], label=\"val_loss\")\n",
    "plt.plot(N, TheNet.history[\"accuracy\"][START:], label=\"train_acc\")\n",
    "plt.plot(N, TheNet.history[\"val_accuracy\"][START:], label=\"val_acc\")\n",
    "plt.title(\"Training Loss and Accuracy (Simple NN)\")\n",
    "plt.xlabel(\"Epoch #\")\n",
    "plt.ylabel(\"Loss/Accuracy\")\n",
    "plt.legend()\n",
    "f = open(\"C:/Users/Zimus/Desktop/CyberGarHacathon/CyberGarden2019-master/CyberGarden2019-master/graph/num.txt\", \"rt\")\n",
    "num = f.readline()\n",
    "print(int(num)+1)\n",
    "num = int(num.strip())\n",
    "f.close()\n",
    "f = open(\"C:/Users/Zimus/Desktop/CyberGarHacathon/CyberGarden2019-master/CyberGarden2019-master/graph/num.txt\", \"wt\")\n",
    "num+=1\n",
    "f.write(str(num))\n",
    "plt.savefig(\"C:/Users/Zimus/Desktop/CyberGarHacathon/CyberGarden2019-master/CyberGarden2019-master/graph/%d\" % num)"
   ]
  },
  {
   "cell_type": "code",
   "execution_count": null,
   "metadata": {},
   "outputs": [],
   "source": []
  }
 ],
 "metadata": {
  "kernelspec": {
   "display_name": "Python 3",
   "language": "python",
   "name": "python3"
  },
  "language_info": {
   "codemirror_mode": {
    "name": "ipython",
    "version": 3
   },
   "file_extension": ".py",
   "mimetype": "text/x-python",
   "name": "python",
   "nbconvert_exporter": "python",
   "pygments_lexer": "ipython3",
   "version": "3.7.0"
  }
 },
 "nbformat": 4,
 "nbformat_minor": 2
}
