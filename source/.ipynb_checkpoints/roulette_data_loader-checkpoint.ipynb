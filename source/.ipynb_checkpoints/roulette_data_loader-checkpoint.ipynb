{
 "cells": [
  {
   "cell_type": "code",
   "execution_count": 10,
   "metadata": {},
   "outputs": [],
   "source": [
    "# импортируем бэкенд Agg из matplotlib для сохранения графиков на диск\n",
    "import matplotlib\n",
    "matplotlib.use(\"Agg\")\n",
    " \n",
    "# подключаем необходимые пакеты\n",
    "from sklearn.preprocessing import LabelBinarizer\n",
    "from sklearn.model_selection import train_test_split\n",
    "from sklearn.metrics import classification_report\n",
    "from keras.models import Sequential, Model\n",
    "from keras.layers.core import Dense\n",
    "from keras.optimizers import SGD\n",
    "from imutils import paths as path\n",
    "import matplotlib.pyplot as plt\n",
    "import matplotlib \n",
    "import numpy as np\n",
    "import argparse\n",
    "import random\n",
    "import pickle\n",
    "import cv2\n",
    "import os \n",
    "import tkinter\n",
    "import pickle as pkl"
   ]
  },
  {
   "cell_type": "code",
   "execution_count": 11,
   "metadata": {},
   "outputs": [],
   "source": [
    "data = []\n",
    "labels = []\n",
    "pathToImages = sorted(list(path.list_images(\"/home/frizik/CyberGarden2019/dataset\")))\n",
    "random.seed(666)\n",
    "random.shuffle(pathToImages)"
   ]
  },
  {
   "cell_type": "code",
   "execution_count": 12,
   "metadata": {},
   "outputs": [],
   "source": [
    "COEFFICIENT = 10\n",
    "dim = (int(32*COEFFICIENT), int(32*COEFFICIENT))\n",
    "for imgPath in pathToImages:\n",
    "    img = cv2.imread(imgPath, cv2.COLOR_BGR2GRAY)\n",
    "    \n",
    "    img = cv2.resize(img, dsize = dim, interpolation = cv2.INTER_AREA)\n",
    "    #img = cv2.cvtColor(img, cv2.COLOR_BGR2GRAY)\n",
    "    #img = cv2.Laplacian(img,cv2.CV_64F)\n",
    "    cv2.imwrite('/home/frizik/CyberGarden2019/graph/gray.png',img)\n",
    "    data.append(img)\n",
    "    \n",
    "    label = imgPath.split(os.path.sep)[-3:][1]\n",
    "    labels.append(label)"
   ]
  },
  {
   "cell_type": "code",
   "execution_count": null,
   "metadata": {},
   "outputs": [],
   "source": [
    "\"\"\"\"\"datOut = open(\"/home/frizik/CyberGarden2019/source/pickles/rou_data.pkl\", \"wb\")\n",
    "pkl.dump(data, datOut)\n",
    "datOut.close()\n",
    "\n",
    "labeOut = open(\"/home/frizik/CyberGarden2019/source/pickles/rou_label.pkl\", \"wb\")\n",
    "pkl.dump(labels, labeOut)\n",
    "labeOut.close()\"\"\"\"\""
   ]
  },
  {
   "cell_type": "code",
   "execution_count": 20,
   "metadata": {},
   "outputs": [],
   "source": [
    "(trainX, testX, trainY, testY) = train_test_split(data, labels, train_size=0.75, test_size = 0.25, random_state=666)\n",
    "\n",
    "trainX = np.asarray(trainX)\n",
    "testX = np.asarray(testX)\n",
    "trainX = trainX.reshape(len(trainX), 32*COEFFICIENT, 32*COEFFICIENT, 3)\n",
    "testX = testX.reshape(len(testX), 32*COEFFICIENT, 32*COEFFICIENT, 3)\n",
    "matplotlib.use('TkAgg')\n",
    "plt.imshow(trainX[4])\n",
    "plt.show()"
   ]
  },
  {
   "cell_type": "code",
   "execution_count": null,
   "metadata": {},
   "outputs": [],
   "source": []
  }
 ],
 "metadata": {
  "kernelspec": {
   "display_name": "Python 3",
   "language": "python",
   "name": "python3"
  },
  "language_info": {
   "codemirror_mode": {
    "name": "ipython",
    "version": 3
   },
   "file_extension": ".py",
   "mimetype": "text/x-python",
   "name": "python",
   "nbconvert_exporter": "python",
   "pygments_lexer": "ipython3",
   "version": "3.7.4"
  }
 },
 "nbformat": 4,
 "nbformat_minor": 2
}
