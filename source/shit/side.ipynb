{
 "cells": [
  {
   "cell_type": "code",
   "execution_count": null,
   "metadata": {},
   "outputs": [],
   "source": [
    "# импортируем бэкенд Agg из matplotlib для сохранения графиков на диск\n",
    "import matplotlib\n",
    "matplotlib.use(\"Agg\")\n",
    " \n",
    "# подключаем необходимые пакеты\n",
    "from sklearn.preprocessing import LabelBinarizer\n",
    "from sklearn.model_selection import train_test_split\n",
    "from sklearn.metrics import classification_report\n",
    "from keras.models import Sequential, Model\n",
    "from keras.layers.core import Dense\n",
    "from keras.optimizers import SGD\n",
    "from imutils import paths as path\n",
    "import matplotlib.pyplot as plt\n",
    "import numpy as np\n",
    "import argparse\n",
    "import random\n",
    "import pickle\n",
    "import cv2\n",
    "import os \n",
    "import pickle"
   ]
  },
  {
   "cell_type": "code",
   "execution_count": null,
   "metadata": {},
   "outputs": [],
   "source": [
    "datOut = open(\"/home/frizik/CyberGarden2019/source/pickles/data.pkl\", \"rb\")\n",
    "data = pickle.load(datOut)\n",
    "datOut.close()\n",
    "\n",
    "labeOut = open(\"/home/frizik/CyberGarden2019/source/pickles/label.pkl\", \"rb\")\n",
    "labels = pickle.load(labeOut)\n",
    "labeOut.close()"
   ]
  },
  {
   "cell_type": "code",
   "execution_count": null,
   "metadata": {},
   "outputs": [],
   "source": [
    "print(labels[0])\n",
    "print(labels[1])\n",
    "print(labels[2])\n",
    "data = np.array(data, dtype=\"float\") / 255.0\n",
    "labels = np.array(labels)"
   ]
  },
  {
   "cell_type": "code",
   "execution_count": null,
   "metadata": {},
   "outputs": [],
   "source": [
    "(trainX, testX, trainY, testY) = train_test_split(data, labels, train_size=0.75, test_size = 0.25, random_state=666)\n",
    "labe = LabelBinarizer()\n",
    "trainY = labe.fit_transform(trainY)\n",
    "testY = labe.transform(testY)"
   ]
  },
  {
   "cell_type": "code",
   "execution_count": null,
   "metadata": {},
   "outputs": [],
   "source": [
    "COEFFICIENT = 10\n",
    "model = Sequential()\n",
    "model.add(Dense(1024, input_shape = (1024*COEFFICIENT*COEFFICIENT,), activation = \"sigmoid\"))\n",
    "model.add(Dense(512, activation = \"sigmoid\"))\n",
    "\n",
    "model.add(Dense(len(labe.classes_), activation=\"softmax\"))"
   ]
  },
  {
   "cell_type": "code",
   "execution_count": null,
   "metadata": {},
   "outputs": [],
   "source": [
    "EDUCATING_SPEED = 0.05\n",
    "EPOCHS = 25\n",
    "\n",
    "print(\"[Ruso-Pythonisto] compiling this shit...\")\n",
    "opmizer = SGD(lr = EDUCATING_SPEED)\n",
    "model.compile(loss=\"categorical_crossentropy\", optimizer = opmizer, metrics=[\"accuracy\"])"
   ]
  },
  {
   "cell_type": "code",
   "execution_count": null,
   "metadata": {},
   "outputs": [],
   "source": [
    "print(\"[Ruso-Pythonisto] training it...\")\n",
    "TheNet = model.fit(trainX, trainY, validation_data=(testX, testY), epochs=EPOCHS, batch_size=32)"
   ]
  },
  {
   "cell_type": "code",
   "execution_count": null,
   "metadata": {},
   "outputs": [],
   "source": [
    "print(\"[Ruso-Pythonisto] evaluating network...\")\n",
    "predictions = model.predict(testX, batch_size=32)\n",
    "print(classification_report(testY.argmax(axis=1),\n",
    "    predictions.argmax(axis=1), target_names=labe.classes_))\n",
    "\n",
    "N = np.arange(0, EPOCHS)\n",
    "plt.style.use(\"ggplot\")\n",
    "plt.figure()\n",
    "plt.plot(N, TheNet.history[\"loss\"], label=\"train_loss\")\n",
    "plt.plot(N, TheNet.history[\"val_loss\"], label=\"val_loss\")\n",
    "plt.plot(N, TheNet.history[\"accuracy\"], label=\"train_acc\")\n",
    "plt.plot(N, TheNet.history[\"val_accuracy\"], label=\"val_acc\")\n",
    "plt.title(\"Training Loss and Accuracy (Simple NN)\")\n",
    "plt.xlabel(\"Epoch #\")\n",
    "plt.ylabel(\"Loss/Accuracy\")\n",
    "plt.legend()\n",
    "f = open(\"/home/frizik/CyberGarden2019/graph/num.txt\", \"rt\")\n",
    "num = f.readline()\n",
    "print(num)\n",
    "num = int(num.strip())\n",
    "f.close()\n",
    "f = open(\"/home/frizik/CyberGarden2019/graph/num.txt\", \"wt\")\n",
    "num+=1\n",
    "f.write(str(num))\n",
    "plt.savefig(\"/home/frizik/CyberGarden2019/graph/%d\" % num)\n"
   ]
  }
 ],
 "metadata": {
  "kernelspec": {
   "display_name": "Python 3",
   "language": "python",
   "name": "python3"
  },
  "language_info": {
   "codemirror_mode": {
    "name": "ipython",
    "version": 3
   },
   "file_extension": ".py",
   "mimetype": "text/x-python",
   "name": "python",
   "nbconvert_exporter": "python",
   "pygments_lexer": "ipython3",
   "version": "3.7.0"
  }
 },
 "nbformat": 4,
 "nbformat_minor": 2
}
