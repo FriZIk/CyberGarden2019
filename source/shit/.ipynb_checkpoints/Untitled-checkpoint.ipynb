{
 "cells": [
  {
   "cell_type": "code",
   "execution_count": 1,
   "metadata": {},
   "outputs": [
    {
     "name": "stderr",
     "output_type": "stream",
     "text": [
      "Using TensorFlow backend.\n"
     ]
    }
   ],
   "source": [
    "# импортируем бэкенд Agg из matplotlib для сохранения графиков на диск\n",
    "import matplotlib\n",
    "matplotlib.use(\"Agg\")\n",
    " \n",
    "# подключаем необходимые пакеты\n",
    "from sklearn.preprocessing import LabelBinarizer\n",
    "from sklearn.model_selection import train_test_split\n",
    "from sklearn.metrics import classification_report\n",
    "from keras.models import Sequential\n",
    "from keras.layers.core import Dense\n",
    "from keras.optimizers import SGD\n",
    "from imutils import paths as path\n",
    "import matplotlib.pyplot as plt\n",
    "import numpy as np\n",
    "import argparse\n",
    "import random\n",
    "import pickle\n",
    "import cv2\n",
    "import os "
   ]
  },
  {
   "cell_type": "code",
   "execution_count": 2,
   "metadata": {},
   "outputs": [],
   "source": [
    "#MAKE DIRECTORY FOR MODEL AND DAASET AND RESULT VISUALIZATION"
   ]
  },
  {
   "cell_type": "code",
   "execution_count": 3,
   "metadata": {},
   "outputs": [],
   "source": [
    "data = []\n",
    "labels = []\n",
    "pathToImages = sorted(list(path.list_images(\"/home/frizik/CyberGarden2019/dataset\")))\n",
    "random.seed(666)\n",
    "random.shuffle(pathToImages)"
   ]
  },
  {
   "cell_type": "code",
   "execution_count": 4,
   "metadata": {},
   "outputs": [],
   "source": [
    "COEFFICIENT = 5\n",
    "dim = (int(32*COEFFICIENT), int(32*COEFFICIENT))\n",
    "for imgPath in pathToImages:\n",
    "    img = cv2.imread(imgPath, cv2.COLOR_BGR2GRAY)\n",
    "    img = cv2.resize(img, dsize = dim, interpolation = cv2.INTER_AREA).flatten()\n",
    "    data.append(img)\n",
    "    \n",
    "    label = imgPath.split(os.path.sep)[-2]\n",
    "    labels.append(label)"
   ]
  },
  {
   "cell_type": "code",
   "execution_count": 5,
   "metadata": {},
   "outputs": [
    {
     "name": "stdout",
     "output_type": "stream",
     "text": [
      "o\n"
     ]
    }
   ],
   "source": [
    "print(label[0])\n",
    "data = np.array(data, dtype=\"float\") / 255.0\n",
    "labels = np.array(labels)"
   ]
  },
  {
   "cell_type": "code",
   "execution_count": 6,
   "metadata": {},
   "outputs": [],
   "source": [
    "(trainX, testX, trainY, testY) = train_test_split(data, labels, train_size=0.75, test_size = 0.25, random_state=666)\n",
    "labe = LabelBinarizer()\n",
    "trainY = labe.fit_transform(trainY)\n",
    "testY = labe.transform(testY)"
   ]
  },
  {
   "cell_type": "code",
   "execution_count": 11,
   "metadata": {},
   "outputs": [],
   "source": [
    "model = Sequential()\n",
    "model.add(Dense(1024, input_shape = (3072*COEFFICIENT*COEFFICIENT,), activation = \"sigmoid\"))\n",
    "model.add(Dense(1024, activation = \"sigmoid\"))\n",
    "model.add(Dense(len(labe.classes_), activation=\"softmax\"))"
   ]
  },
  {
   "cell_type": "code",
   "execution_count": 18,
   "metadata": {},
   "outputs": [
    {
     "name": "stdout",
     "output_type": "stream",
     "text": [
      "[Ruso-Pythonisto] compiling this shit...\n"
     ]
    }
   ],
   "source": [
    "EDUCATING_SPEED = 0.01\n",
    "EPOCHS = 10\n",
    "\n",
    "print(\"[Ruso-Pythonisto] compiling this shit...\")\n",
    "opmizer = SGD(lr = EDUCATING_SPEED)\n",
    "model.compile(loss=\"categorical_crossentropy\", optimizer = opmizer, metrics=[\"accuracy\"])"
   ]
  },
  {
   "cell_type": "code",
   "execution_count": null,
   "metadata": {},
   "outputs": [
    {
     "name": "stdout",
     "output_type": "stream",
     "text": [
      "[Ruso-Pythonisto] training it...\n",
      "Train on 437 samples, validate on 146 samples\n",
      "Epoch 1/10\n",
      "437/437 [==============================] - 7s 17ms/step - loss: 1.2787 - accuracy: 0.4256 - val_loss: 1.2717 - val_accuracy: 0.3562\n",
      "Epoch 2/10\n",
      " 96/437 [=====>........................] - ETA: 5s - loss: 0.9892 - accuracy: 0.5625"
     ]
    }
   ],
   "source": [
    "print(\"[Ruso-Pythonisto] training it...\")\n",
    "TheNet = model.fit(trainX, trainY, validation_data=(testX, testY), epochs=EPOCHS, batch_size=32)"
   ]
  },
  {
   "cell_type": "code",
   "execution_count": 17,
   "metadata": {},
   "outputs": [
    {
     "name": "stdout",
     "output_type": "stream",
     "text": [
      "[Ruso-Pythonisto] evaluating network...\n",
      "              precision    recall  f1-score   support\n",
      "\n",
      "       birch       0.23      1.00      0.38        33\n",
      "    chestnut       0.00      0.00      0.00        43\n",
      "       maple       1.00      0.15      0.26        33\n",
      "         oak       0.00      0.00      0.00        37\n",
      "\n",
      "    accuracy                           0.26       146\n",
      "   macro avg       0.31      0.29      0.16       146\n",
      "weighted avg       0.28      0.26      0.15       146\n",
      "\n",
      "9\n"
     ]
    },
    {
     "name": "stderr",
     "output_type": "stream",
     "text": [
      "/usr/lib/python3.7/site-packages/sklearn/metrics/_classification.py:1268: UndefinedMetricWarning: Precision and F-score are ill-defined and being set to 0.0 in labels with no predicted samples. Use `zero_division` parameter to control this behavior.\n",
      "  _warn_prf(average, modifier, msg_start, len(result))\n",
      "/usr/lib/python3.7/site-packages/ipykernel_launcher.py:25: MatplotlibDeprecationWarning: Passing the block parameter of show() positionally is deprecated since Matplotlib 3.1; the parameter will become keyword-only in 3.3.\n",
      "/usr/lib/python3.7/site-packages/ipykernel_launcher.py:25: UserWarning: Matplotlib is currently using agg, which is a non-GUI backend, so cannot show the figure.\n"
     ]
    }
   ],
   "source": [
    "print(\"[Ruso-Pythonisto] evaluating network...\")\n",
    "predictions = model.predict(testX, batch_size=32)\n",
    "print(classification_report(testY.argmax(axis=1),\n",
    "    predictions.argmax(axis=1), target_names=labe.classes_))\n",
    "\n",
    "N = np.arange(0, EPOCHS)\n",
    "plt.style.use(\"ggplot\")\n",
    "plt.figure()\n",
    "plt.plot(N, TheNet.history[\"loss\"], label=\"train_loss\")\n",
    "plt.plot(N, TheNet.history[\"val_loss\"], label=\"val_loss\")\n",
    "plt.plot(N, TheNet.history[\"accuracy\"], label=\"train_acc\")\n",
    "plt.plot(N, TheNet.history[\"val_accuracy\"], label=\"val_acc\")\n",
    "plt.title(\"Training Loss and Accuracy (Simple NN)\")\n",
    "plt.xlabel(\"Epoch #\")\n",
    "plt.ylabel(\"Loss/Accuracy\")\n",
    "plt.legend()\n",
    "f = open(\"/home/frizik/CyberGarden2019/graph/num.txt\", \"rt\")\n",
    "num = f.readline()\n",
    "print(num)\n",
    "num = int(num.strip())\n",
    "f.close()\n",
    "f = open(\"/home/frizik/CyberGarden2019/graph/num.txt\", \"wt\")\n",
    "num+=1\n",
    "f.write(str(num))\n",
    "plt.savefig(\"/home/frizik/CyberGarden2019/graph/%d\" % num)\n"
   ]
  },
  {
   "cell_type": "code",
   "execution_count": null,
   "metadata": {},
   "outputs": [],
   "source": []
  }
 ],
 "metadata": {
  "kernelspec": {
   "display_name": "Python 3",
   "language": "python",
   "name": "python3"
  },
  "language_info": {
   "codemirror_mode": {
    "name": "ipython",
    "version": 3
   },
   "file_extension": ".py",
   "mimetype": "text/x-python",
   "name": "python",
   "nbconvert_exporter": "python",
   "pygments_lexer": "ipython3",
   "version": "3.7.4"
  }
 },
 "nbformat": 4,
 "nbformat_minor": 2
}
